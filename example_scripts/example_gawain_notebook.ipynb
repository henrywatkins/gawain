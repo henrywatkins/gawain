{
 "cells": [
  {
   "cell_type": "markdown",
   "metadata": {},
   "source": [
    "# Example Gawain notebook\n",
    "In this notebook I show how to set up, run, and plot a simple simulation using the gawain plasma physics module.\n"
   ]
  },
  {
   "cell_type": "code",
   "execution_count": null,
   "metadata": {},
   "outputs": [],
   "source": [
    "import numpy as np\n",
    "from gawain.main import run_gawain\n",
    "from gawain.io import Reader"
   ]
  },
  {
   "cell_type": "code",
   "execution_count": null,
   "metadata": {},
   "outputs": [],
   "source": [
    "%matplotlib inline\n",
    "\n",
    "import numpy as np\n",
    "import matplotlib.pyplot as plt\n",
    "\n",
    "from matplotlib import animation, rc\n",
    "from IPython.display import HTML"
   ]
  },
  {
   "cell_type": "markdown",
   "metadata": {},
   "source": [
    "# Set up run\n",
    "Here we define the simulation parameters and initial and boundary conditions.\n",
    "For this simple example, I use the Sod shock tube problem. This is a 1D hydrodynamics problem, and so mhd routines are turned off.\n",
    "\n",
    "First define the run_name and output directory, this will create a directory containing the output from the simulation."
   ]
  },
  {
   "cell_type": "code",
   "execution_count": null,
   "metadata": {},
   "outputs": [],
   "source": [
    "run_name = \"sod_shock_tube\"\n",
    "output_dir = \".\""
   ]
  },
  {
   "cell_type": "markdown",
   "metadata": {},
   "source": [
    "Here I choose whether to run an MHD or Hydro simulation, and whether to turn on thermal conductivity and resistivty. As the Sod shock tube is a hydrodynamic problem, MHD and resistivity are turned off. I also do not turn on thermal conductivity."
   ]
  },
  {
   "cell_type": "code",
   "execution_count": null,
   "metadata": {},
   "outputs": [],
   "source": [
    "with_mhd = False\n",
    "with_thermal_conductivity = False\n",
    "with_resistivity = False"
   ]
  },
  {
   "cell_type": "markdown",
   "metadata": {},
   "source": [
    "These cells define the cfl number, the total simulation time, and which time integrator and flux calculation methods are to be used. \n",
    "\n",
    "Currently the supported time integration methods are\n",
    "- euler forward step\n",
    "- 2nd order Runge-Kutta\n",
    "- Leapfrog\n",
    "- Predictor-Corrector\n",
    "\n",
    "The currently supported flux calculation methods are\n",
    "- Lax-Wendroff (two-step Richtmeyer form)\n",
    "- Lax-Friedrichs\n",
    "- HLLE with MUSCL reconstruction\n",
    "\n",
    "For all but the simplest simulations it is strongly advised to use HLL, as Lax-Wendroff is susceptible to oscillations about sharp discontinuities and Lax-Friedrichs is very diffusive."
   ]
  },
  {
   "cell_type": "code",
   "execution_count": null,
   "metadata": {},
   "outputs": [],
   "source": [
    "cfl = 0.5\n",
    "t_max = 0.25"
   ]
  },
  {
   "cell_type": "code",
   "execution_count": null,
   "metadata": {},
   "outputs": [],
   "source": [
    "# \"euler\", \"rk2\", \"leapfrog\", \"predictor-corrector\"\n",
    "integrator = \"euler\"\n",
    "# \"lax-wendroff\", \"lax-friedrichs\", \"hll\"\n",
    "fluxer = \"hll\""
   ]
  },
  {
   "cell_type": "markdown",
   "metadata": {},
   "source": [
    "## Define mesh\n",
    "\n",
    "This cell defines the mesh shape (number of cells in each direction), dimensions (length of each dimension) and the number of output dumps to use."
   ]
  },
  {
   "cell_type": "code",
   "execution_count": null,
   "metadata": {},
   "outputs": [],
   "source": [
    "nx, ny, nz = 200, 1, 1\n",
    "\n",
    "mesh_shape = (nx, ny, nz)\n",
    "\n",
    "n_outputs = 100\n",
    "\n",
    "lx, ly, lz = 1.0, 0.001, 0.001\n",
    "\n",
    "mesh_size = (lx, ly, lz)\n",
    "\n",
    "x = np.linspace(0.0, lx,num=nx)\n",
    "y = np.linspace(0.0, ly,num=ny)\n",
    "z = np.linspace(0.0, lz,num=nz)\n",
    "X,Y,Z =np.meshgrid(x,y,z, indexing='ij')"
   ]
  },
  {
   "cell_type": "markdown",
   "metadata": {},
   "source": [
    "## Define initial condition\n",
    "\n",
    "The mesh information is used to create an initial condition. If this were an mhd simulation, the magnetic field initial condition would also need to be included."
   ]
  },
  {
   "cell_type": "code",
   "execution_count": null,
   "metadata": {},
   "outputs": [],
   "source": [
    "adiabatic_idx = 7.0/5.0\n",
    "\n",
    "rho = np.piecewise(X, [X < 0.5, X >= 0.5], [1.0, 0.125])\n",
    "\n",
    "pressure = np.piecewise(X, [X < 0.5, X >= 0.5], [1.0, 0.1])\n",
    "\n",
    "mx = np.zeros(X.shape)\n",
    "my = np.zeros(X.shape)\n",
    "mz = np.zeros(X.shape)\n",
    "\n",
    "e = pressure/(adiabatic_idx-1) + 0.5*mx*mx/rho\n",
    "\n",
    "initial_condition = np.array([rho, mx, my, mz, e])\n",
    "\n",
    "source = 0.0*np.ones(initial_condition.shape)"
   ]
  },
  {
   "cell_type": "markdown",
   "metadata": {},
   "source": [
    "adiabatic_idx = 7.0/5.0\n",
    "\n",
    "rho = np.ones(mesh_shape)\n",
    "\n",
    "pressure = np.ones(mesh_shape)\n",
    "\n",
    "mx = np.zeros(mesh_shape)\n",
    "my = np.zeros(mesh_shape)\n",
    "mz = np.zeros(mesh_shape)\n",
    "\n",
    "e = pressure/(adiabatic_idx-1) + 0.5*mx*mx/rho\n",
    "\n",
    "initial_condition = np.array([rho, mx, my, mz, e])\n",
    "\n",
    "rho_s= np.zeros(mesh_shape)\n",
    "mx_s= np.zeros(mesh_shape)\n",
    "my_s= np.zeros(mesh_shape)\n",
    "mz_s= np.zeros(mesh_shape)\n",
    "e_s=np.zeros(mesh_shape)\n",
    "e_s[80:120, :, :]=1.0\n",
    "\n",
    "source = np.array([rho_s, mx_s, my_s, mz_s, e_s])"
   ]
  },
  {
   "cell_type": "markdown",
   "metadata": {},
   "source": [
    "## Define boundary conditions\n",
    "The available boundary conditions are\n",
    "- periodic\n",
    "- fixed (to the value specified in the initial condition)\n",
    "- reflective"
   ]
  },
  {
   "cell_type": "code",
   "execution_count": null,
   "metadata": {},
   "outputs": [],
   "source": [
    "boundary_conditions = ['fixed', 'periodic', 'periodic']"
   ]
  },
  {
   "cell_type": "code",
   "execution_count": null,
   "metadata": {},
   "outputs": [],
   "source": [
    "config = {\n",
    "    \"run_name\": run_name,\n",
    "    \"cfl\": cfl,\n",
    "    \"mesh_shape\": mesh_shape,\n",
    "    \"mesh_size\": mesh_size,\n",
    "    \"t_max\": t_max,\n",
    "    \"n_dumps\": n_outputs,\n",
    "    \"initial_condition\": initial_condition,\n",
    "    \"boundary_type\": boundary_conditions,\n",
    "    \"adi_idx\": adiabatic_idx,\n",
    "    \"integrator\": integrator,\n",
    "    \"fluxer\": fluxer,\n",
    "    \"output_dir\": output_dir,\n",
    "    \"with_mhd\": with_mhd,\n",
    "    \"source\":source,\n",
    "}"
   ]
  },
  {
   "cell_type": "markdown",
   "metadata": {},
   "source": [
    "# Run Simulation\n",
    "Combine all the above simulation parameters into a parameter dictionary. This dictionary is then fed to the run_gawain function which begins the simulation. Ensure the all keys for this dictionary are defined, and ensure the names are spelt correctly."
   ]
  },
  {
   "cell_type": "code",
   "execution_count": null,
   "metadata": {},
   "outputs": [],
   "source": [
    "run_gawain(config)"
   ]
  },
  {
   "cell_type": "markdown",
   "metadata": {},
   "source": [
    "# Plot Results\n",
    "One can create simple plots to visualise the results using the Reader object "
   ]
  },
  {
   "cell_type": "code",
   "execution_count": null,
   "metadata": {},
   "outputs": [],
   "source": [
    "data = Reader(run_name)"
   ]
  },
  {
   "cell_type": "code",
   "execution_count": null,
   "metadata": {},
   "outputs": [],
   "source": [
    "data.variables"
   ]
  },
  {
   "cell_type": "code",
   "execution_count": null,
   "metadata": {},
   "outputs": [],
   "source": [
    "data.plot('density', timesteps=[0,10,20,50,90])"
   ]
  },
  {
   "cell_type": "markdown",
   "metadata": {},
   "source": [
    "One can also create animations from the raw data using the method below"
   ]
  },
  {
   "cell_type": "code",
   "execution_count": null,
   "metadata": {},
   "outputs": [],
   "source": [
    "raw_data = data.get_data('energy')"
   ]
  },
  {
   "cell_type": "code",
   "execution_count": null,
   "metadata": {},
   "outputs": [],
   "source": [
    "raw_data.shape"
   ]
  },
  {
   "cell_type": "code",
   "execution_count": null,
   "metadata": {},
   "outputs": [],
   "source": [
    "fig, ax = plt.subplots()\n",
    "\n",
    "ax.set_xlim(( 0, 200))\n",
    "ax.set_ylim((0, 1))\n",
    "\n",
    "line, = ax.plot([], [], lw=2)"
   ]
  },
  {
   "cell_type": "code",
   "execution_count": null,
   "metadata": {},
   "outputs": [],
   "source": [
    "# initialization function: plot the background of each frame\n",
    "def init():\n",
    "    line.set_data([], [])\n",
    "    return (line,)"
   ]
  },
  {
   "cell_type": "code",
   "execution_count": null,
   "metadata": {},
   "outputs": [],
   "source": [
    "# animation function. This is called sequentially\n",
    "def animate(i):\n",
    "    x = np.linspace(0, 200, 200)\n",
    "    y = raw_data[i].reshape(200,)\n",
    "    line.set_data(x, y)\n",
    "    return (line,)"
   ]
  },
  {
   "cell_type": "code",
   "execution_count": null,
   "metadata": {},
   "outputs": [],
   "source": [
    "anim = animation.FuncAnimation(fig, animate, init_func=init,\n",
    "                               frames=100, interval=20, \n",
    "                               blit=True)"
   ]
  },
  {
   "cell_type": "code",
   "execution_count": null,
   "metadata": {},
   "outputs": [],
   "source": [
    "HTML(anim.to_jshtml())"
   ]
  },
  {
   "cell_type": "code",
   "execution_count": null,
   "metadata": {},
   "outputs": [],
   "source": []
  },
  {
   "cell_type": "code",
   "execution_count": null,
   "metadata": {},
   "outputs": [],
   "source": []
  }
 ],
 "metadata": {
  "kernelspec": {
   "display_name": "Python 3",
   "language": "python",
   "name": "python3"
  },
  "language_info": {
   "codemirror_mode": {
    "name": "ipython",
    "version": 3
   },
   "file_extension": ".py",
   "mimetype": "text/x-python",
   "name": "python",
   "nbconvert_exporter": "python",
   "pygments_lexer": "ipython3",
   "version": "3.7.6"
  }
 },
 "nbformat": 4,
 "nbformat_minor": 4
}
