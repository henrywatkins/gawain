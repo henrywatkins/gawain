{
 "cells": [
  {
   "cell_type": "markdown",
   "metadata": {},
   "source": [
    "# Analysis Notebook for Gawain\n",
    "This notebook contains examples of reading and visualising the data output from a Gawain simulation"
   ]
  },
  {
   "cell_type": "markdown",
   "metadata": {},
   "source": [
    "# Imports"
   ]
  },
  {
   "cell_type": "code",
   "execution_count": 24,
   "metadata": {},
   "outputs": [],
   "source": [
    "from gawain.io import Reader"
   ]
  },
  {
   "cell_type": "markdown",
   "metadata": {},
   "source": [
    "# Load Data"
   ]
  },
  {
   "cell_type": "markdown",
   "metadata": {},
   "source": [
    "# Analysis"
   ]
  },
  {
   "cell_type": "code",
   "execution_count": 49,
   "metadata": {},
   "outputs": [],
   "source": [
    "data = Reader(\"sod_shock_tube_soft\")"
   ]
  },
  {
   "cell_type": "code",
   "execution_count": 50,
   "metadata": {},
   "outputs": [
    {
     "data": {
      "image/png": "[encoded data removed]",
      "text/plain": [
       "<Figure size 432x288 with 1 Axes>"
      ]
     },
     "metadata": {
      "needs_background": "light"
     },
     "output_type": "display_data"
    }
   ],
   "source": [
    "data.plot(\"density\", timesteps=[0,1,3,5,10,20,50])"
   ]
  },
  {
   "cell_type": "code",
   "execution_count": 51,
   "metadata": {},
   "outputs": [
    {
     "name": "stderr",
     "output_type": "stream",
     "text": [
      "Traceback (most recent call last):\n",
      "  File \"/home/user/anaconda3/lib/python3.7/site-packages/matplotlib/cbook/__init__.py\", line 216, in process\n",
      "    func(*args, **kwargs)\n",
      "  File \"/home/user/anaconda3/lib/python3.7/site-packages/matplotlib/animation.py\", line 953, in _start\n",
      "    self._init_draw()\n",
      "  File \"/home/user/anaconda3/lib/python3.7/site-packages/matplotlib/animation.py\", line 1732, in _init_draw\n",
      "    self._draw_frame(next(self.new_frame_seq()))\n",
      "  File \"/home/user/anaconda3/lib/python3.7/site-packages/matplotlib/animation.py\", line 1755, in _draw_frame\n",
      "    self._drawn_artists = self._func(framedata, *self._args)\n",
      "  File \"/mnt/c/Users/hwatk/Documents/UbuntuDocs/Gawain/gawain/io.py\", line 165, in update_fig\n",
      "    subplot.set_xlabel('x')\n",
      "AttributeError: 'list' object has no attribute 'set_array'\n"
     ]
    },
    {
     "data": {
      "image/png": "[encoded data removed]",
      "text/plain": [
       "<Figure size 432x288 with 1 Axes>"
      ]
     },
     "metadata": {
      "needs_background": "light"
     },
     "output_type": "display_data"
    }
   ],
   "source": [
    "data.animate(\"density\")"
   ]
  },
  {
   "cell_type": "code",
   "execution_count": 31,
   "metadata": {},
   "outputs": [],
   "source": [
    "dat = data.get_data(\"density\")"
   ]
  },
  {
   "cell_type": "code",
   "execution_count": 32,
   "metadata": {},
   "outputs": [
    {
     "data": {
      "text/plain": [
       "array([[[[1.        ]],\n",
       "\n",
       "        [[1.        ]],\n",
       "\n",
       "        [[1.        ]],\n",
       "\n",
       "        ...,\n",
       "\n",
       "        [[0.125     ]],\n",
       "\n",
       "        [[0.125     ]],\n",
       "\n",
       "        [[0.125     ]]],\n",
       "\n",
       "\n",
       "       [[[1.        ]],\n",
       "\n",
       "        [[1.        ]],\n",
       "\n",
       "        [[1.        ]],\n",
       "\n",
       "        ...,\n",
       "\n",
       "        [[0.125     ]],\n",
       "\n",
       "        [[0.125     ]],\n",
       "\n",
       "        [[0.125     ]]],\n",
       "\n",
       "\n",
       "       [[[1.        ]],\n",
       "\n",
       "        [[1.        ]],\n",
       "\n",
       "        [[1.        ]],\n",
       "\n",
       "        ...,\n",
       "\n",
       "        [[0.125     ]],\n",
       "\n",
       "        [[0.125     ]],\n",
       "\n",
       "        [[0.125     ]]],\n",
       "\n",
       "\n",
       "       ...,\n",
       "\n",
       "\n",
       "       [[[0.9992488 ]],\n",
       "\n",
       "        [[0.99857616]],\n",
       "\n",
       "        [[0.9979687 ]],\n",
       "\n",
       "        ...,\n",
       "\n",
       "        [[0.13529283]],\n",
       "\n",
       "        [[0.13222103]],\n",
       "\n",
       "        [[0.12881476]]],\n",
       "\n",
       "\n",
       "       [[[0.9991796 ]],\n",
       "\n",
       "        [[0.99844503]],\n",
       "\n",
       "        [[0.997782  ]],\n",
       "\n",
       "        ...,\n",
       "\n",
       "        [[0.13664904]],\n",
       "\n",
       "        [[0.13318306]],\n",
       "\n",
       "        [[0.12932786]]],\n",
       "\n",
       "\n",
       "       [[[0.9991062 ]],\n",
       "\n",
       "        [[0.99830616]],\n",
       "\n",
       "        [[0.99758416]],\n",
       "\n",
       "        ...,\n",
       "\n",
       "        [[0.13810934]],\n",
       "\n",
       "        [[0.13422123]],\n",
       "\n",
       "        [[0.12988268]]]], dtype=float32)"
      ]
     },
     "execution_count": 32,
     "metadata": {},
     "output_type": "execute_result"
    }
   ],
   "source": [
    "dat"
   ]
  },
  {
   "cell_type": "code",
   "execution_count": null,
   "metadata": {},
   "outputs": [],
   "source": []
  }
 ],
 "metadata": {
  "kernelspec": {
   "display_name": "Python 3",
   "language": "python",
   "name": "python3"
  },
  "language_info": {
   "codemirror_mode": {
    "name": "ipython",
    "version": 3
   },
   "file_extension": ".py",
   "mimetype": "text/x-python",
   "name": "python",
   "nbconvert_exporter": "python",
   "pygments_lexer": "ipython3",
   "version": "3.7.6"
  }
 },
 "nbformat": 4,
 "nbformat_minor": 4
}
