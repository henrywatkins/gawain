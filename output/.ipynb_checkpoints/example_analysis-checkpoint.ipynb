{
 "cells": [
  {
   "cell_type": "markdown",
   "metadata": {},
   "source": [
    "# Analysis Notebook for Gawain\n",
    "This notebook contains examples of reading and visualising the data output from a Gawain simulation"
   ]
  },
  {
   "cell_type": "markdown",
   "metadata": {},
   "source": [
    "# Imports"
   ]
  },
  {
   "cell_type": "code",
   "execution_count": 2,
   "metadata": {},
   "outputs": [],
   "source": [
    "from gawain.io import Reader"
   ]
  },
  {
   "cell_type": "markdown",
   "metadata": {},
   "source": [
    "# Load Data"
   ]
  },
  {
   "cell_type": "markdown",
   "metadata": {},
   "source": [
    "# Analysis"
   ]
  },
  {
   "cell_type": "code",
   "execution_count": 18,
   "metadata": {},
   "outputs": [],
   "source": [
    "data = Reader(\"sod_shock_tube\")"
   ]
  },
  {
   "cell_type": "code",
   "execution_count": 19,
   "metadata": {},
   "outputs": [],
   "source": [
    "import matplotlib.pyplot as plt"
   ]
  },
  {
   "cell_type": "code",
   "execution_count": 23,
   "metadata": {},
   "outputs": [
    {
     "data": {
      "image/png": "[encoded data removed]",
      "text/plain": [
       "<Figure size 432x288 with 1 Axes>"
      ]
     },
     "metadata": {
      "needs_background": "light"
     },
     "output_type": "display_data"
    }
   ],
   "source": [
    "data.plot(\"density\", timesteps=[0,1,2,5,7])"
   ]
  },
  {
   "cell_type": "code",
   "execution_count": 12,
   "metadata": {},
   "outputs": [],
   "source": [
    "dat = data.get_data(\"density\")"
   ]
  },
  {
   "cell_type": "code",
   "execution_count": 13,
   "metadata": {},
   "outputs": [
    {
     "data": {
      "text/plain": [
       "array([[[[0.10000037]],\n",
       "\n",
       "        [[0.10000061]],\n",
       "\n",
       "        [[0.100001  ]],\n",
       "\n",
       "        ...,\n",
       "\n",
       "        [[0.100001  ]],\n",
       "\n",
       "        [[0.10000061]],\n",
       "\n",
       "        [[0.10000037]]],\n",
       "\n",
       "\n",
       "       [[[0.10000049]],\n",
       "\n",
       "        [[0.10000069]],\n",
       "\n",
       "        [[0.10000112]],\n",
       "\n",
       "        ...,\n",
       "\n",
       "        [[0.10000112]],\n",
       "\n",
       "        [[0.10000069]],\n",
       "\n",
       "        [[0.10000049]]],\n",
       "\n",
       "\n",
       "       [[[0.10039373]],\n",
       "\n",
       "        [[0.09897317]],\n",
       "\n",
       "        [[0.1014961 ]],\n",
       "\n",
       "        ...,\n",
       "\n",
       "        [[0.1014961 ]],\n",
       "\n",
       "        [[0.09897317]],\n",
       "\n",
       "        [[0.10039373]]],\n",
       "\n",
       "\n",
       "       ...,\n",
       "\n",
       "\n",
       "       [[[       nan]],\n",
       "\n",
       "        [[       nan]],\n",
       "\n",
       "        [[       nan]],\n",
       "\n",
       "        ...,\n",
       "\n",
       "        [[       nan]],\n",
       "\n",
       "        [[       nan]],\n",
       "\n",
       "        [[       nan]]],\n",
       "\n",
       "\n",
       "       [[[       nan]],\n",
       "\n",
       "        [[       nan]],\n",
       "\n",
       "        [[       nan]],\n",
       "\n",
       "        ...,\n",
       "\n",
       "        [[       nan]],\n",
       "\n",
       "        [[       nan]],\n",
       "\n",
       "        [[       nan]]],\n",
       "\n",
       "\n",
       "       [[[       nan]],\n",
       "\n",
       "        [[       nan]],\n",
       "\n",
       "        [[       nan]],\n",
       "\n",
       "        ...,\n",
       "\n",
       "        [[       nan]],\n",
       "\n",
       "        [[       nan]],\n",
       "\n",
       "        [[       nan]]]], dtype=float32)"
      ]
     },
     "execution_count": 13,
     "metadata": {},
     "output_type": "execute_result"
    }
   ],
   "source": [
    "dat"
   ]
  },
  {
   "cell_type": "code",
   "execution_count": null,
   "metadata": {},
   "outputs": [],
   "source": []
  }
 ],
 "metadata": {
  "kernelspec": {
   "display_name": "Python 3",
   "language": "python",
   "name": "python3"
  },
  "language_info": {
   "codemirror_mode": {
    "name": "ipython",
    "version": 3
   },
   "file_extension": ".py",
   "mimetype": "text/x-python",
   "name": "python",
   "nbconvert_exporter": "python",
   "pygments_lexer": "ipython3",
   "version": "3.7.6"
  }
 },
 "nbformat": 4,
 "nbformat_minor": 4
}
